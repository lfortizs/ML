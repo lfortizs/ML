{
 "cells": [
  {
   "cell_type": "markdown",
   "metadata": {},
   "source": [
    "# Exercise 18\n",
    "\n",
    "## Analyze class homeworks\n"
   ]
  },
  {
   "cell_type": "code",
   "execution_count": 3,
   "metadata": {},
   "outputs": [
    {
     "data": {
      "text/html": [
       "<div>\n",
       "<style scoped>\n",
       "    .dataframe tbody tr th:only-of-type {\n",
       "        vertical-align: middle;\n",
       "    }\n",
       "\n",
       "    .dataframe tbody tr th {\n",
       "        vertical-align: top;\n",
       "    }\n",
       "\n",
       "    .dataframe thead th {\n",
       "        text-align: right;\n",
       "    }\n",
       "</style>\n",
       "<table border=\"1\" class=\"dataframe\">\n",
       "  <thead>\n",
       "    <tr style=\"text-align: right;\">\n",
       "      <th></th>\n",
       "      <th>Sexo</th>\n",
       "      <th>T1</th>\n",
       "      <th>T2</th>\n",
       "      <th>T3</th>\n",
       "      <th>T4</th>\n",
       "      <th>T5</th>\n",
       "      <th>T6</th>\n",
       "    </tr>\n",
       "  </thead>\n",
       "  <tbody>\n",
       "    <tr>\n",
       "      <th>0</th>\n",
       "      <td>H</td>\n",
       "      <td>Un científico de datos y un ingeniero de datos...</td>\n",
       "      <td>NaN</td>\n",
       "      <td>Los árboles de decisión es uno de los algoritm...</td>\n",
       "      <td>NaN</td>\n",
       "      <td>En el documento \"Do We Need Hundreds of Classi...</td>\n",
       "      <td>Boosting builds models from individual so call...</td>\n",
       "    </tr>\n",
       "    <tr>\n",
       "      <th>1</th>\n",
       "      <td>H</td>\n",
       "      <td>Aunque los dos perfiles cuentan con habilidade...</td>\n",
       "      <td>Aunque el conceso no es total en el tema de ma...</td>\n",
       "      <td>NaN</td>\n",
       "      <td>En Machine Learing el propósito de los métodos...</td>\n",
       "      <td>El paper publicado en 2014 hace una evaluación...</td>\n",
       "      <td>Gradient Boosting ClassifierGradient Boosting ...</td>\n",
       "    </tr>\n",
       "    <tr>\n",
       "      <th>2</th>\n",
       "      <td>H</td>\n",
       "      <td>Python vs Stata. Analizar información es un pr...</td>\n",
       "      <td>En el marco del Machine Learning encontramos c...</td>\n",
       "      <td>Árbol de clasificación Como su nombre lo indic...</td>\n",
       "      <td>Este es un mecanismo que utiliza varios algori...</td>\n",
       "      <td>El paper analiza 179 clasificadores de 17 dife...</td>\n",
       "      <td>Gradient Boosting Classifier busca aprender de...</td>\n",
       "    </tr>\n",
       "    <tr>\n",
       "      <th>3</th>\n",
       "      <td>M</td>\n",
       "      <td>Los algoritmos de machine learning buscan pred...</td>\n",
       "      <td>Los algoritmos de machine learning buscan pred...</td>\n",
       "      <td>Los arboles de decisión pertenecen a los algor...</td>\n",
       "      <td>Consideremos el siguiente ejemplo: Una persona...</td>\n",
       "      <td>¿Se necesitan cientos de modelos para resolver...</td>\n",
       "      <td>NaN</td>\n",
       "    </tr>\n",
       "    <tr>\n",
       "      <th>4</th>\n",
       "      <td>H</td>\n",
       "      <td>Python vs R para análisis de datos. A pesar de...</td>\n",
       "      <td>Tipos de aprendizaje en Machine Learning. El M...</td>\n",
       "      <td>Tipos de árboles de decisión y aplicaciones. U...</td>\n",
       "      <td>La combinación de modelos o ensemble es un mod...</td>\n",
       "      <td>En el articulo se analizan cerca de 180 clasif...</td>\n",
       "      <td>XGBoosting vs GBoosting. A pesar de que el alg...</td>\n",
       "    </tr>\n",
       "  </tbody>\n",
       "</table>\n",
       "</div>"
      ],
      "text/plain": [
       "  Sexo                                                 T1  \\\n",
       "0    H  Un científico de datos y un ingeniero de datos...   \n",
       "1    H  Aunque los dos perfiles cuentan con habilidade...   \n",
       "2    H  Python vs Stata. Analizar información es un pr...   \n",
       "3    M  Los algoritmos de machine learning buscan pred...   \n",
       "4    H  Python vs R para análisis de datos. A pesar de...   \n",
       "\n",
       "                                                  T2  \\\n",
       "0                                                NaN   \n",
       "1  Aunque el conceso no es total en el tema de ma...   \n",
       "2  En el marco del Machine Learning encontramos c...   \n",
       "3  Los algoritmos de machine learning buscan pred...   \n",
       "4  Tipos de aprendizaje en Machine Learning. El M...   \n",
       "\n",
       "                                                  T3  \\\n",
       "0  Los árboles de decisión es uno de los algoritm...   \n",
       "1                                                NaN   \n",
       "2  Árbol de clasificación Como su nombre lo indic...   \n",
       "3  Los arboles de decisión pertenecen a los algor...   \n",
       "4  Tipos de árboles de decisión y aplicaciones. U...   \n",
       "\n",
       "                                                  T4  \\\n",
       "0                                                NaN   \n",
       "1  En Machine Learing el propósito de los métodos...   \n",
       "2  Este es un mecanismo que utiliza varios algori...   \n",
       "3  Consideremos el siguiente ejemplo: Una persona...   \n",
       "4  La combinación de modelos o ensemble es un mod...   \n",
       "\n",
       "                                                  T5  \\\n",
       "0  En el documento \"Do We Need Hundreds of Classi...   \n",
       "1  El paper publicado en 2014 hace una evaluación...   \n",
       "2  El paper analiza 179 clasificadores de 17 dife...   \n",
       "3  ¿Se necesitan cientos de modelos para resolver...   \n",
       "4  En el articulo se analizan cerca de 180 clasif...   \n",
       "\n",
       "                                                  T6  \n",
       "0  Boosting builds models from individual so call...  \n",
       "1  Gradient Boosting ClassifierGradient Boosting ...  \n",
       "2  Gradient Boosting Classifier busca aprender de...  \n",
       "3                                                NaN  \n",
       "4  XGBoosting vs GBoosting. A pesar de que el alg...  "
      ]
     },
     "execution_count": 3,
     "metadata": {},
     "output_type": "execute_result"
    }
   ],
   "source": [
    "%matplotlib inline\n",
    "import pandas as pd\n",
    "import numpy as np\n",
    "import nltk\n",
    "import spacy\n",
    "#https://www.youtube.com/watch?v=mCJ3wzjiNvA\n",
    "from nltk.corpus import stopwords\n",
    "from nltk.stem.snowball import SnowballStemmer\n",
    "import re\n",
    "import sys\n",
    "import warnings\n",
    "if not sys.warnoptions:\n",
    "    warnings.simplefilter(\"ignore\")\n",
    "import matplotlib.pyplot as plt\n",
    "from unicodedata import normalize\n",
    "from wordcloud import WordCloud,STOPWORDS\n",
    "import string\n",
    "from nltk import wordpunct_tokenize\n",
    "from sklearn.model_selection import train_test_split\n",
    "df = pd.read_excel('E18.xlsx')\n",
    "df.head()"
   ]
  },
  {
   "cell_type": "markdown",
   "metadata": {},
   "source": [
    "# Exercise 18.1\n",
    "\n",
    "Analyze the writing patterns of each student"
   ]
  },
  {
   "cell_type": "code",
   "execution_count": 5,
   "metadata": {},
   "outputs": [
    {
     "name": "stdout",
     "output_type": "stream",
     "text": [
      "      T1  T2  T3  T4  T5  T6\n",
      "Sexo                        \n",
      "H     33  25  23  28  27  25\n",
      "M      8   5   7   8   8   4\n"
     ]
    }
   ],
   "source": [
    "print(df.groupby('Sexo').count())"
   ]
  },
  {
   "cell_type": "code",
   "execution_count": 6,
   "metadata": {},
   "outputs": [
    {
     "data": {
      "text/html": [
       "<div>\n",
       "<style scoped>\n",
       "    .dataframe tbody tr th:only-of-type {\n",
       "        vertical-align: middle;\n",
       "    }\n",
       "\n",
       "    .dataframe tbody tr th {\n",
       "        vertical-align: top;\n",
       "    }\n",
       "\n",
       "    .dataframe thead th {\n",
       "        text-align: right;\n",
       "    }\n",
       "</style>\n",
       "<table border=\"1\" class=\"dataframe\">\n",
       "  <thead>\n",
       "    <tr style=\"text-align: right;\">\n",
       "      <th></th>\n",
       "      <th>Sexo</th>\n",
       "      <th>Len_Text</th>\n",
       "    </tr>\n",
       "  </thead>\n",
       "  <tbody>\n",
       "    <tr>\n",
       "      <th>count</th>\n",
       "      <td>42.000000</td>\n",
       "      <td>42.000000</td>\n",
       "    </tr>\n",
       "    <tr>\n",
       "      <th>mean</th>\n",
       "      <td>0.809524</td>\n",
       "      <td>8571.047619</td>\n",
       "    </tr>\n",
       "    <tr>\n",
       "      <th>std</th>\n",
       "      <td>0.397437</td>\n",
       "      <td>3481.420519</td>\n",
       "    </tr>\n",
       "    <tr>\n",
       "      <th>min</th>\n",
       "      <td>0.000000</td>\n",
       "      <td>1443.000000</td>\n",
       "    </tr>\n",
       "    <tr>\n",
       "      <th>25%</th>\n",
       "      <td>1.000000</td>\n",
       "      <td>6758.000000</td>\n",
       "    </tr>\n",
       "    <tr>\n",
       "      <th>50%</th>\n",
       "      <td>1.000000</td>\n",
       "      <td>8566.500000</td>\n",
       "    </tr>\n",
       "    <tr>\n",
       "      <th>75%</th>\n",
       "      <td>1.000000</td>\n",
       "      <td>9644.750000</td>\n",
       "    </tr>\n",
       "    <tr>\n",
       "      <th>max</th>\n",
       "      <td>1.000000</td>\n",
       "      <td>22077.000000</td>\n",
       "    </tr>\n",
       "  </tbody>\n",
       "</table>\n",
       "</div>"
      ],
      "text/plain": [
       "            Sexo      Len_Text\n",
       "count  42.000000     42.000000\n",
       "mean    0.809524   8571.047619\n",
       "std     0.397437   3481.420519\n",
       "min     0.000000   1443.000000\n",
       "25%     1.000000   6758.000000\n",
       "50%     1.000000   8566.500000\n",
       "75%     1.000000   9644.750000\n",
       "max     1.000000  22077.000000"
      ]
     },
     "execution_count": 6,
     "metadata": {},
     "output_type": "execute_result"
    }
   ],
   "source": [
    "for column in df.columns:\n",
    "    df[column] = df[column].astype(str)\n",
    "df['Sexo'] = df['Sexo'].map({'H':1,'M':0})\n",
    "df['Text'] =  df[['T1', 'T2', 'T3', 'T4', 'T5']].apply(lambda x: ''.join(x), axis=1)\n",
    "df['Len_Text'] = df['Text'].apply(len)\n",
    "df.describe()"
   ]
  },
  {
   "cell_type": "code",
   "execution_count": 9,
   "metadata": {},
   "outputs": [
    {
     "data": {
      "text/plain": [
       "3     algoritmos  machine learning buscan predecir ...\n",
       "4    python vs r  análisis  datos.  pesar   ambos l...\n",
       "5    siendo dos grandes software's  analítica  dos ...\n",
       "6    data scientist  data engineer  dos profesiones...\n",
       "7     diferencias   científico  datos   ingeniero  ...\n",
       "Name: Text, dtype: object"
      ]
     },
     "execution_count": 9,
     "metadata": {},
     "output_type": "execute_result"
    }
   ],
   "source": [
    "stop_words = set(stopwords.words('spanish'))\n",
    "re_stop_words = re.compile(r\"\\b(\" + \"|\".join(stop_words) + \")\\\\W\", re.I)\n",
    "\n",
    "def removeStopWords(sentence):\n",
    "    global re_stop_words\n",
    "    return re_stop_words.sub(\" \", sentence)\n",
    "def cleanPunc(sentence): #function to clean the word of any punctuation or special characters\n",
    "    cleaned = re.sub(r'[?|!|\\'|\"|#]',r'',sentence)\n",
    "    cleaned = re.sub(r'[.|,|)|(|\\|/]',r' ',cleaned)\n",
    "    cleaned = cleaned.strip()\n",
    "    cleaned = cleaned.replace(\"\\n\",\" \")\n",
    "    return cleaned\n",
    "df['Text'] = df['Text'].apply(lambda x: x.lower())\n",
    "df['Text'] = df['Text'].apply(removeStopWords)\n",
    "df['Text'] = df['Text'].astype(str)\n",
    "df['Text'][3:8]"
   ]
  },
  {
   "cell_type": "code",
   "execution_count": 10,
   "metadata": {},
   "outputs": [
    {
     "data": {
      "text/plain": [
       "<matplotlib.axes._subplots.AxesSubplot at 0x1373c373518>"
      ]
     },
     "execution_count": 10,
     "metadata": {},
     "output_type": "execute_result"
    },
    {
     "data": {
      "image/png": "[encoded data removed]",
      "text/plain": [
       "<Figure size 432x288 with 1 Axes>"
      ]
     },
     "metadata": {
      "needs_background": "light"
     },
     "output_type": "display_data"
    }
   ],
   "source": [
    "pd.Series(' '.join(df['Text']).split()).value_counts()[:30].plot(kind='bar')"
   ]
  },
  {
   "cell_type": "code",
   "execution_count": 13,
   "metadata": {},
   "outputs": [
    {
     "data": {
      "text/plain": [
       "3    algoritm machin learning busc predec result en...\n",
       "4    python vs r analisis datos. pes ambos lenguaj ...\n",
       "5    siend dos grand software's analit dos gust per...\n",
       "6    dat scientist dat engin dos profesion enmarc a...\n",
       "7    diferent cientif dat ingeni dat radic responsa...\n",
       "Name: Text, dtype: object"
      ]
     },
     "execution_count": 13,
     "metadata": {},
     "output_type": "execute_result"
    }
   ],
   "source": [
    "stemmer = SnowballStemmer(\"spanish\")\n",
    "def stemming(sentence):\n",
    "    stemSentence = \"\"\n",
    "    for word in sentence.split():\n",
    "        stem = stemmer.stem(word)\n",
    "        stemSentence += stem\n",
    "        stemSentence += \" \"\n",
    "    stemSentence = stemSentence.strip()\n",
    "    return stemSentence\n",
    "df['Text'] = df['Text'].apply(stemming)\n",
    "df.Text[3:8]"
   ]
  },
  {
   "cell_type": "markdown",
   "metadata": {},
   "source": [
    "# Exercise 18.2\n",
    "\n",
    "Evaluate the similarities of the homeworks of the students\n",
    "\n",
    "tip: https://github.com/orsinium/textdistance"
   ]
  },
  {
   "cell_type": "code",
   "execution_count": 16,
   "metadata": {},
   "outputs": [
    {
     "data": {
      "image/png": "[encoded data removed]",
      "text/plain": [
       "<Figure size 648x648 with 1 Axes>"
      ]
     },
     "metadata": {
      "needs_background": "light"
     },
     "output_type": "display_data"
    }
   ],
   "source": [
    "import textdistance\n",
    "def similarity_ham(data):\n",
    "    results = pd.DataFrame(0, index=data.index, columns=data.index)\n",
    "    for i in range(len(data)):\n",
    "        for j in range(len(data)):\n",
    "            results.loc[i,j] = textdistance.hamming.normalized_similarity(data['Text'][i], data['Text'][j])\n",
    "    assert results.shape == (data.shape[0], data.shape[0])\n",
    "    return results\n",
    "simil2 = similarity_ham(df)\n",
    "fig = plt.figure(figsize = (9,9)) \n",
    "ax3 = fig.add_subplot(111)\n",
    "ax3.matshow(simil2, cmap=plt.cm.hot, aspect='auto') \n",
    "ax3.set_title('Mapa de calor con la Similaridad de hamming normalizada', fontsize=15)\n",
    "plt.show()"
   ]
  },
  {
   "cell_type": "markdown",
   "metadata": {},
   "source": [
    "# Exercise 18.3\n",
    "\n",
    "Create a classifier to predict the sex of each student\n",
    "\n"
   ]
  },
  {
   "cell_type": "code",
   "execution_count": 17,
   "metadata": {},
   "outputs": [],
   "source": [
    "df.Text.head(3)\n",
    "from sklearn.feature_extraction.text import TfidfVectorizer\n",
    "import re, string\n",
    "re_tok = re.compile(f'([{string.punctuation}“”¨«»®´·º½¾¿¡§£₤‘’])')\n",
    "def tokenize(s): return re_tok.sub(r' \\1 ', s).split()\n",
    "vect = TfidfVectorizer(ngram_range=(1,2), tokenizer=tokenize,\n",
    "               min_df=1, max_df=0.4, strip_accents='unicode', use_idf=1,\n",
    "               smooth_idf=1, sublinear_tf=1 )\n",
    "X_dtm = vect.fit_transform(df['Text'])\n",
    "y = df.Sexo\n",
    "x_train, x_test, y_train, y_test = train_test_split(X_dtm, y, test_size=0.3, random_state=42)"
   ]
  },
  {
   "cell_type": "code",
   "execution_count": 28,
   "metadata": {},
   "outputs": [
    {
     "data": {
      "text/plain": [
       "LogisticRegression(C=1.0, class_weight=None, dual=False, fit_intercept=True,\n",
       "          intercept_scaling=1, max_iter=100, multi_class='ovr', n_jobs=1,\n",
       "          penalty='l2', random_state=None, solver='liblinear', tol=0.0001,\n",
       "          verbose=0, warm_start=False)"
      ]
     },
     "execution_count": 28,
     "metadata": {},
     "output_type": "execute_result"
    }
   ],
   "source": [
    "clf = LogisticRegression()\n",
    "clf.fit(x_train, y_train)"
   ]
  },
  {
   "cell_type": "code",
   "execution_count": 29,
   "metadata": {},
   "outputs": [],
   "source": [
    "y_pred = clf.predict(x_test)"
   ]
  },
  {
   "cell_type": "code",
   "execution_count": 31,
   "metadata": {},
   "outputs": [
    {
     "name": "stdout",
     "output_type": "stream",
     "text": [
      "Accuracy of logistic regression classifier on test set: 0.92\n"
     ]
    }
   ],
   "source": [
    "print('Accuracy of logistic regression classifier on test set: {:.2f}'.format(clf.score(x_test, y_test)))"
   ]
  }
 ],
 "metadata": {
  "kernelspec": {
   "display_name": "Python 3",
   "language": "python",
   "name": "python3"
  },
  "language_info": {
   "codemirror_mode": {
    "name": "ipython",
    "version": 3
   },
   "file_extension": ".py",
   "mimetype": "text/x-python",
   "name": "python",
   "nbconvert_exporter": "python",
   "pygments_lexer": "ipython3",
   "version": "3.7.0"
  }
 },
 "nbformat": 4,
 "nbformat_minor": 2
}
